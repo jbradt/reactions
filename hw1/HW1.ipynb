{
 "cells": [
  {
   "cell_type": "code",
   "execution_count": null,
   "metadata": {
    "collapsed": true
   },
   "outputs": [],
   "source": [
    "%matplotlib inline"
   ]
  },
  {
   "cell_type": "code",
   "execution_count": null,
   "metadata": {
    "collapsed": true
   },
   "outputs": [],
   "source": [
    "import numpy as np\n",
    "from numpy import exp\n",
    "import matplotlib.pyplot as plt\n",
    "import seaborn as sns\n",
    "from math import sqrt, log, atan2\n",
    "from scipy.special import sph_jn, sph_yn"
   ]
  },
  {
   "cell_type": "code",
   "execution_count": null,
   "metadata": {
    "collapsed": true
   },
   "outputs": [],
   "source": [
    "sns.set_style('darkgrid')"
   ]
  },
  {
   "cell_type": "code",
   "execution_count": null,
   "metadata": {
    "collapsed": true
   },
   "outputs": [],
   "source": [
    "mu_hbar_const = 0.0478450  # 2mu/hbar^2"
   ]
  },
  {
   "cell_type": "code",
   "execution_count": null,
   "metadata": {
    "collapsed": false
   },
   "outputs": [],
   "source": [
    "def hanplus(rho, L):\n",
    "    return -rho * sph_yn(L, rho)[0][-1] + (rho * sph_jn(L, rho)[0][-1])*1j\n",
    "def hanminus(rho, L):\n",
    "    return -rho * sph_yn(L, rho)[0][-1] - (rho * sph_jn(L, rho)[0][-1])*1j\n",
    "def hanplus_prime(rho, L, k):\n",
    "    j = sph_jn(L, rho)[0][-1]\n",
    "    jp = sph_jn(L, rho)[1][-1]\n",
    "    y = sph_yn(L, rho)[0][-1]\n",
    "    yp = sph_yn(L, rho)[1][-1]\n",
    "    return -k * (y + 1j*j + rho * (yp + 1j*jp))\n",
    "def hanminus_prime(rho, L, k):\n",
    "    j = sph_jn(L, rho)[0][-1]\n",
    "    jp = sph_jn(L, rho)[1][-1]\n",
    "    y = sph_yn(L, rho)[0][-1]\n",
    "    yp = sph_yn(L, rho)[1][-1]\n",
    "    return -k * (y - 1j*j + rho * (yp - 1j*jp))"
   ]
  },
  {
   "cell_type": "code",
   "execution_count": null,
   "metadata": {
    "collapsed": true
   },
   "outputs": [],
   "source": [
    "def pot(r):\n",
    "    \"\"\"The Woods-Saxon potential.\n",
    "    \n",
    "    Parameters\n",
    "    ----------\n",
    "    r : number\n",
    "        The radius, in fm.\n",
    "    \n",
    "    Returns\n",
    "    -------\n",
    "    number\n",
    "        The potential at r, in MeV\n",
    "    \"\"\"\n",
    "    A = 10\n",
    "#     A = 2000\n",
    "    v0 = -61.1  # MeV\n",
    "    aws = 0.65  # fm\n",
    "    rws = 1.2 * A**(1/3)  # fm\n",
    "    return v0 / (1 + exp((r-rws)/aws))"
   ]
  },
  {
   "cell_type": "code",
   "execution_count": null,
   "metadata": {
    "collapsed": true
   },
   "outputs": [],
   "source": [
    "def diffeq(x, r, L, E):\n",
    "    \"\"\"Differential equation for scattering.\n",
    "    \n",
    "    Parameters\n",
    "    ----------\n",
    "    x : array-like\n",
    "        The vector of [u, u'], where u is the solution to the diff eq.\n",
    "    r : number\n",
    "        The radial position, in fm.\n",
    "    L : integer\n",
    "        The angular momentum quantum number\n",
    "    E : number\n",
    "        The energy, in MeV.\n",
    "        \n",
    "    Returns\n",
    "    -------\n",
    "    ndarray\n",
    "        The vector of derivatives [u', u'']\n",
    "    \"\"\"\n",
    "    x1, x2 = x\n",
    "    x1p = x2\n",
    "    try:\n",
    "        x2p = ((L * (L+1))/r**2 + 0.0478450 * (pot(r) - E)) * x1\n",
    "    except ZeroDivisionError:\n",
    "        if x1 == 0:\n",
    "            x2p = 0.\n",
    "        else:\n",
    "            x2p = 1e9\n",
    "    return np.array((x1p, x2p))"
   ]
  },
  {
   "cell_type": "code",
   "execution_count": null,
   "metadata": {
    "collapsed": true
   },
   "outputs": [],
   "source": [
    "def RK4(x, func, r, dr, *args):\n",
    "    \"\"\"Fourth-order Runge-Kutta integrator.\n",
    "    \n",
    "    Parameters\n",
    "    ----------\n",
    "    x : array-like, or number\n",
    "        The state vector, or current state\n",
    "    func : callable\n",
    "        The differential equation. Its call signature should be func(x, r, ...). \n",
    "        Any additional arguments to RK4 will be passed on to func.\n",
    "    r : number\n",
    "        The current radial position coordinate, in fm.\n",
    "    dr : number\n",
    "        The position step, in fm.\n",
    "    \n",
    "    Returns\n",
    "    -------\n",
    "    xnew : ndarray or number\n",
    "        The next state vector or state\n",
    "    \"\"\"\n",
    "    rka = func(x, r, *args)\n",
    "    rkb = func(x + (dr / 2) * rka, r + dr/2, *args)\n",
    "    rkc = func(x + (dr / 2) * rkb, r + dr/2, *args)\n",
    "    rkd = func(x + (dr * rkc), r + dr, *args)\n",
    "\n",
    "    xnew = x + (dr / 6) * (rka + 2 * rkb + 2 * rkc + rkd)\n",
    "\n",
    "    return xnew"
   ]
  },
  {
   "cell_type": "code",
   "execution_count": null,
   "metadata": {
    "collapsed": true
   },
   "outputs": [],
   "source": [
    "def integrate_u(energy, angmom):\n",
    "    x0 = np.array((0, 1e-3))\n",
    "\n",
    "    npts = 10000\n",
    "    r0 = 0\n",
    "    dr = 0.01\n",
    "\n",
    "    xpts = np.arange(npts) * dr + r0\n",
    "    pts = np.zeros((npts, 2))\n",
    "\n",
    "    x = x0\n",
    "    pts[0, :] = x\n",
    "\n",
    "    for i in range(1, npts):\n",
    "        x = RK4(x, diffeq, r0 + dr*i, dr, angmom, energy)\n",
    "        pts[i, :] = x\n",
    "    \n",
    "    return xpts, pts"
   ]
  },
  {
   "cell_type": "code",
   "execution_count": null,
   "metadata": {
    "collapsed": false
   },
   "outputs": [],
   "source": [
    "xpts, pts = integrate_u(3, 1)\n",
    "plt.plot(xpts, pts[:, 0])\n",
    "res_scale = pts[:, 0].min()\n",
    "plt.plot(xpts, [pot(x) / pot(0) * res_scale for x in xpts])"
   ]
  },
  {
   "cell_type": "code",
   "execution_count": null,
   "metadata": {
    "collapsed": true
   },
   "outputs": [],
   "source": [
    "def find_phase(xpts, pts, energy, angmom):\n",
    "    rmat = (pts[-1, 0] / pts[-1, 1]) / xpts[-1]  # rmatrix\n",
    "    k = sqrt(mu_hbar_const * energy)\n",
    "    rho = k * xpts[-1]\n",
    "    numer = hanminus(rho, angmom) - xpts[-1]*rmat*hanminus_prime(rho, angmom, k)\n",
    "    denom = hanplus(rho, angmom) - xpts[-1]*rmat*hanplus_prime(rho, angmom, k)\n",
    "    smat = numer / denom\n",
    "    assert sqrt(smat.imag**2 + smat.real**2) - 1.0 < 0.1, 'smat magnitude not 1'\n",
    "    return 0.5 * atan2(smat.imag, smat.real)"
   ]
  },
  {
   "cell_type": "code",
   "execution_count": null,
   "metadata": {
    "collapsed": false
   },
   "outputs": [],
   "source": [
    "find_phase(xpts, pts, energy, angmom)"
   ]
  },
  {
   "cell_type": "code",
   "execution_count": null,
   "metadata": {
    "collapsed": true
   },
   "outputs": [],
   "source": []
  }
 ],
 "metadata": {
  "kernelspec": {
   "display_name": "Python 3",
   "language": "python",
   "name": "python3"
  },
  "language_info": {
   "codemirror_mode": {
    "name": "ipython",
    "version": 3
   },
   "file_extension": ".py",
   "mimetype": "text/x-python",
   "name": "python",
   "nbconvert_exporter": "python",
   "pygments_lexer": "ipython3",
   "version": "3.4.2"
  }
 },
 "nbformat": 4,
 "nbformat_minor": 0
}
