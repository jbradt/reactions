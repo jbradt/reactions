{
 "metadata": {
  "kernelspec": {
   "display_name": "Python 3",
   "language": "python",
   "name": "python3"
  },
  "language_info": {
   "codemirror_mode": {
    "name": "ipython",
    "version": 3
   },
   "file_extension": ".py",
   "mimetype": "text/x-python",
   "name": "python",
   "nbconvert_exporter": "python",
   "pygments_lexer": "ipython3",
   "version": "3.4.2"
  },
  "name": ""
 },
 "nbformat": 3,
 "nbformat_minor": 0,
 "worksheets": [
  {
   "cells": [
    {
     "cell_type": "code",
     "collapsed": true,
     "input": [
      "%matplotlib inline"
     ],
     "language": "python",
     "metadata": {},
     "outputs": []
    },
    {
     "cell_type": "code",
     "collapsed": true,
     "input": [
      "import numpy as np\n",
      "from numpy import exp\n",
      "import matplotlib.pyplot as plt\n",
      "import seaborn as sns"
     ],
     "language": "python",
     "metadata": {},
     "outputs": []
    },
    {
     "cell_type": "code",
     "collapsed": true,
     "input": [
      "sns.set_style('darkgrid')"
     ],
     "language": "python",
     "metadata": {},
     "outputs": []
    },
    {
     "cell_type": "code",
     "collapsed": true,
     "input": [
      "import scipy.constants"
     ],
     "language": "python",
     "metadata": {},
     "outputs": []
    },
    {
     "cell_type": "code",
     "collapsed": false,
     "input": [
      "hbar = scipy.constants.hbar"
     ],
     "language": "python",
     "metadata": {},
     "outputs": []
    },
    {
     "cell_type": "code",
     "collapsed": true,
     "input": [
      "def pot(r):\n",
      "    \"\"\"The Woods-Saxon potential.\n",
      "    \n",
      "    Parameters\n",
      "    ----------\n",
      "    r : number\n",
      "        The radius, in fm.\n",
      "    \n",
      "    Returns\n",
      "    -------\n",
      "    number\n",
      "        The potential at r, in MeV\n",
      "    \"\"\"\n",
      "    A = 10\n",
      "    v0 = -61.1  # MeV\n",
      "    aws = 0.65  # fm\n",
      "    rws = 1.2 * A**(1/3)  # fm\n",
      "    return v0 / (1 + exp((r-rws)/aws))"
     ],
     "language": "python",
     "metadata": {},
     "outputs": []
    },
    {
     "cell_type": "code",
     "collapsed": true,
     "input": [
      "def diffeq(x, r, L, E):\n",
      "    \"\"\"\n",
      "    x1 -> u\n",
      "    x2 -> u'\n",
      "    \"\"\"\n",
      "    x1, x2 = x\n",
      "    x1p = x2\n",
      "    x2p = ((L * (L+1))/r**2 + 0.0478450 * (pot(r) - E)) * x1\n",
      "    return np.array((x1p, x2p))"
     ],
     "language": "python",
     "metadata": {},
     "outputs": []
    },
    {
     "cell_type": "code",
     "collapsed": true,
     "input": [
      "def RK4(x, func, r, dr, *args):\n",
      "    \"\"\"\n",
      "    Fourth-Order Runge-Kutta Approximation. \n",
      "    Takes x, function, returns xnew\n",
      "    \"\"\"\n",
      "    rka = func(x, r, *args)\n",
      "    rkb = func(x + (dr / 2) * rka, r + dr/2, *args)\n",
      "    rkc = func(x + (dr / 2) * rkb, r + dr/2, *args)\n",
      "    rkd = func(x + (dr * rkc), r + dr, *args)\n",
      "\n",
      "    xnew = x + (dr / 6) * (rka + 2 * rkb + 2 * rkc + rkd)\n",
      "\n",
      "    return xnew"
     ],
     "language": "python",
     "metadata": {},
     "outputs": []
    },
    {
     "cell_type": "code",
     "collapsed": true,
     "input": [
      "x0 = np.array((0.01, 1.))\n",
      "energy = 2.\n",
      "angmom = 0"
     ],
     "language": "python",
     "metadata": {},
     "outputs": []
    },
    {
     "cell_type": "code",
     "collapsed": false,
     "input": [
      "RK4(x0, diffeq, 0.01, 0.01, angmom, energy)"
     ],
     "language": "python",
     "metadata": {},
     "outputs": []
    },
    {
     "cell_type": "code",
     "collapsed": true,
     "input": [
      "npts = 1000\n",
      "pts = np.zeros((npts, 2))\n",
      "x = x0\n",
      "pts[0, :] = x\n",
      "for i in range(1, npts):\n",
      "    x = RK4(x, diffeq, 0.01, 0.01, angmom, energy)\n",
      "    pts[i, :] = x"
     ],
     "language": "python",
     "metadata": {},
     "outputs": []
    },
    {
     "cell_type": "code",
     "collapsed": false,
     "input": [
      "plt.plot(pts[:, 0])"
     ],
     "language": "python",
     "metadata": {},
     "outputs": []
    },
    {
     "cell_type": "code",
     "collapsed": true,
     "input": [],
     "language": "python",
     "metadata": {},
     "outputs": []
    }
   ],
   "metadata": {}
  }
 ]
}