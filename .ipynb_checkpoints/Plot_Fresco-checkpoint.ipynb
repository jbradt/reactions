{
 "cells": [
  {
   "cell_type": "code",
   "execution_count": null,
   "metadata": {
    "collapsed": true
   },
   "outputs": [],
   "source": [
    "%matplotlib inline"
   ]
  },
  {
   "cell_type": "code",
   "execution_count": null,
   "metadata": {
    "collapsed": true
   },
   "outputs": [],
   "source": [
    "import matplotlib.pyplot as plt\n",
    "import re\n",
    "import os\n",
    "import glob\n",
    "import pandas as pd\n",
    "import numpy as np\n",
    "import seaborn as sns\n",
    "from numpy import sin, pi"
   ]
  },
  {
   "cell_type": "code",
   "execution_count": null,
   "metadata": {
    "collapsed": false
   },
   "outputs": [],
   "source": [
    "sns.set_style('ticks')\n",
    "sns.set_context('notebook')"
   ]
  },
  {
   "cell_type": "code",
   "execution_count": null,
   "metadata": {
    "collapsed": true
   },
   "outputs": [],
   "source": [
    "def parse_fort16(f):\n",
    "    data = []\n",
    "    idx = []\n",
    "    for line in f:\n",
    "        line = line.strip()\n",
    "        if line[0] not in ('#', '@') and line != 'END':\n",
    "            parts = [float(x) for x in line.split()]\n",
    "            idx.append(parts[0])\n",
    "            data.append(parts[1])\n",
    "    return idx, data"
   ]
  },
  {
   "cell_type": "code",
   "execution_count": null,
   "metadata": {
    "collapsed": true
   },
   "outputs": [],
   "source": [
    "rootdir = os.path.abspath('/Volumes/projects/phy982/Group_JB_CI/')"
   ]
  },
  {
   "cell_type": "code",
   "execution_count": null,
   "metadata": {
    "collapsed": false
   },
   "outputs": [],
   "source": [
    "f16files = []\n",
    "for root, dirnames, filenames in os.walk(rootdir):\n",
    "    if 'fit' in root:\n",
    "        continue\n",
    "    if 'fort.16' in filenames:\n",
    "        f16files.append(os.path.join(root, 'fort.16'))"
   ]
  },
  {
   "cell_type": "code",
   "execution_count": null,
   "metadata": {
    "collapsed": false
   },
   "outputs": [],
   "source": [
    "dfs = []\n",
    "for f in f16files:\n",
    "    name = '_'.join(re.match(rootdir + '/(.*)', os.path.dirname(f)).group(1).split('/'))\n",
    "    with open(f) as fp:\n",
    "        idx, data = parse_fort16(fp)\n",
    "    dfs.append(pd.DataFrame(data, columns=(name,), index=idx))\n",
    "        \n",
    "xsecs = pd.concat(dfs, axis=1)"
   ]
  },
  {
   "cell_type": "code",
   "execution_count": null,
   "metadata": {
    "collapsed": false
   },
   "outputs": [],
   "source": [
    "xsecs.protons_nonuc5_point.dropna().plot()\n",
    "xsecs.protons_nonuc5_finite.dropna().plot()\n",
    "xsecs.protons_nonuc50_point.dropna().plot()\n",
    "xsecs.protons_nonuc50_finite.dropna().plot()\n",
    "\n",
    "plt.legend(frameon=True)\n",
    "plt.semilogy()\n",
    "plt.xlabel('CM Angle [degrees]')\n",
    "plt.ylabel('Ratio to Rutherford')"
   ]
  },
  {
   "cell_type": "code",
   "execution_count": null,
   "metadata": {
    "collapsed": false
   },
   "outputs": [],
   "source": [
    "xsecs.neutrons_nonuc5_point.dropna().plot()\n",
    "xsecs.neutrons_nonuc5_finite.dropna().plot()\n",
    "xsecs.neutrons_nonuc50_point.dropna().plot()\n",
    "xsecs.neutrons_nonuc50_finite.dropna().plot()\n",
    "\n",
    "plt.legend(loc='lower right', frameon=True)\n",
    "plt.semilogy()\n",
    "plt.xlabel('CM Angle [degrees]')\n",
    "plt.ylabel('Ratio to Rutherford')"
   ]
  },
  {
   "cell_type": "code",
   "execution_count": null,
   "metadata": {
    "collapsed": false
   },
   "outputs": [],
   "source": [
    "plt.figure(figsize=(6, 8))\n",
    "plt.subplot(211)\n",
    "xsecs.protons_nuc5_real.dropna().plot()\n",
    "xsecs.protons_nuc50_real.dropna().plot()\n",
    "\n",
    "plt.legend(loc='lower right', frameon=True)\n",
    "plt.semilogy()\n",
    "plt.xlabel('CM Angle [degrees]')\n",
    "plt.ylabel('Ratio to Rutherford')\n",
    "\n",
    "plt.subplot(212)\n",
    "xsecs.neutrons_nuc5_real.dropna().plot()\n",
    "xsecs.neutrons_nuc50_real.dropna().plot()\n",
    "\n",
    "plt.legend(loc='lower left', frameon=True)\n",
    "plt.semilogy()\n",
    "plt.xlabel('CM Angle [degrees]')\n",
    "plt.ylabel('Ratio to Rutherford')"
   ]
  },
  {
   "cell_type": "code",
   "execution_count": null,
   "metadata": {
    "collapsed": false
   },
   "outputs": [],
   "source": [
    "plt.figure(figsize=(6, 8))\n",
    "plt.subplot(211)\n",
    "xsecs.protons_nuc5_all.dropna().plot()\n",
    "xsecs.protons_nuc50_all.dropna().plot()\n",
    "\n",
    "plt.legend(loc='lower right', frameon=True)\n",
    "plt.semilogy()\n",
    "plt.xlabel('CM Angle [degrees]')\n",
    "plt.ylabel('Ratio to Rutherford')\n",
    "\n",
    "plt.subplot(212)\n",
    "xsecs.neutrons_nuc5_all.dropna().plot()\n",
    "xsecs.neutrons_nuc50_all.dropna().plot()\n",
    "\n",
    "plt.legend(loc='lower left', frameon=True)\n",
    "plt.semilogy()\n",
    "plt.xlabel('CM Angle [degrees]')\n",
    "plt.ylabel('Ratio to Rutherford')"
   ]
  },
  {
   "cell_type": "code",
   "execution_count": null,
   "metadata": {
    "collapsed": false
   },
   "outputs": [],
   "source": [
    "plt.figure(figsize=(6, 8))\n",
    "plt.subplot(211)\n",
    "xsecs.protons_nuc5_big_r.dropna().plot()\n",
    "xsecs.protons_nuc50_big_r.dropna().plot()\n",
    "\n",
    "plt.legend(loc='lower right', frameon=True)\n",
    "plt.semilogy()\n",
    "plt.xlabel('CM Angle [degrees]')\n",
    "plt.ylabel('Ratio to Rutherford')\n",
    "\n",
    "plt.subplot(212)\n",
    "xsecs.neutrons_nuc5_big_r.dropna().plot()\n",
    "xsecs.neutrons_nuc50_big_r.dropna().plot()\n",
    "\n",
    "plt.legend(loc='lower left', frameon=True)\n",
    "plt.semilogy()\n",
    "plt.xlabel('CM Angle [degrees]')\n",
    "plt.ylabel('Ratio to Rutherford')"
   ]
  },
  {
   "cell_type": "markdown",
   "metadata": {},
   "source": [
    "# Volume Fit"
   ]
  },
  {
   "cell_type": "code",
   "execution_count": null,
   "metadata": {
    "collapsed": false
   },
   "outputs": [],
   "source": [
    "def rutherford(en, angle, Z1, Z2):\n",
    "    angle = angle * pi / 180.\n",
    "    return (Z1 * Z2 * 1.44 / (4 * en))**2 / sin(angle / 2)**4 * 10"
   ]
  },
  {
   "cell_type": "code",
   "execution_count": null,
   "metadata": {
    "collapsed": false
   },
   "outputs": [],
   "source": [
    "with open('/Volumes/projects/phy982/Group_JB_CI/fit/protondata_error.txt') as f:\n",
    "    data_raw = pd.read_csv(f)\n",
    "    data = pd.DataFrame(data={'xsec': data_raw.xsec.values, 'error': data_raw.error.values}, index=data_raw.angle.values)\n",
    "    #data = pd.DataFrame(data_raw.xsec.values, columns=('xsec',), index=data_raw.angle.values)\n",
    "    data['xsec'] /= rutherford(65, data.index.values, 1, 42)\n",
    "    data['error'] /= rutherford(65, data.index.values, 1, 42)"
   ]
  },
  {
   "cell_type": "code",
   "execution_count": null,
   "metadata": {
    "collapsed": true
   },
   "outputs": [],
   "source": [
    "with open('/Volumes/projects/phy982/Group_JB_CI/fit/volume/fort.201') as f:\n",
    "    vol_raw = parse_fort16(f)\n",
    "    vol_data = pd.DataFrame(vol_raw[1], columns=('xsec',), index=vol_raw[0]).sort()"
   ]
  },
  {
   "cell_type": "code",
   "execution_count": null,
   "metadata": {
    "collapsed": false
   },
   "outputs": [],
   "source": [
    "plt.plot(vol_data.index, vol_data.xsec)\n",
    "plt.errorbar(data.index, data.xsec, fmt='.', yerr=data.error)\n",
    "plt.grid()\n",
    "\n",
    "#plt.plot(data.index, data.xsec, 'o')\n",
    "plt.semilogy()\n",
    "plt.xlabel('CM Angle [degrees]')\n",
    "plt.ylabel('Ratio to Rutherford')\n",
    "plt.xlim(0, 60)\n",
    "plt.ylim(1e-2, 1e1)"
   ]
  },
  {
   "cell_type": "markdown",
   "metadata": {},
   "source": [
    "# Surface Fit"
   ]
  },
  {
   "cell_type": "code",
   "execution_count": null,
   "metadata": {
    "collapsed": false
   },
   "outputs": [],
   "source": [
    "with open('/Volumes/projects/phy982/Group_JB_CI/fit/surface/fort.201') as f:\n",
    "    surf_raw  = parse_fort16(f)\n",
    "    surf_data = pd.DataFrame(surf_raw[1], columns=('xsec',), index=surf_raw[0]).sort()"
   ]
  },
  {
   "cell_type": "code",
   "execution_count": null,
   "metadata": {
    "collapsed": false
   },
   "outputs": [],
   "source": [
    "plt.plot(surf_data.index, surf_data.xsec)\n",
    "plt.errorbar(data.index, data.xsec, fmt='.', yerr=data.error)\n",
    "#plt.plot(data.index, data.xsec, 'o')\n",
    "plt.semilogy()\n",
    "plt.xlabel('CM Angle [degrees]')\n",
    "plt.ylabel('Ratio to Rutherford')"
   ]
  },
  {
   "cell_type": "markdown",
   "metadata": {},
   "source": [
    "# Volume and Surface comparison"
   ]
  },
  {
   "cell_type": "code",
   "execution_count": null,
   "metadata": {
    "collapsed": false
   },
   "outputs": [],
   "source": [
    "plt.plot(vol_data.index, vol_data.xsec, label='Volume Fit')\n",
    "plt.plot(surf_data.index, surf_data.xsec, label='Surface Fit')\n",
    "plt.errorbar(data.index, data.xsec, fmt='k.', yerr=data.error, label='Experiment')\n",
    "plt.grid()\n",
    "\n",
    "#plt.plot(data.index, data.xsec, 'o')\n",
    "plt.semilogy()\n",
    "plt.xlabel('CM Angle [degrees]')\n",
    "plt.ylabel('Ratio to Rutherford')\n",
    "plt.xlim(0, 60)\n",
    "plt.ylim(1e-2, 1e1)\n",
    "plt.legend(frameon=True)"
   ]
  },
  {
   "cell_type": "markdown",
   "metadata": {},
   "source": [
    "# Surface + LS"
   ]
  },
  {
   "cell_type": "code",
   "execution_count": null,
   "metadata": {
    "collapsed": false
   },
   "outputs": [],
   "source": [
    "with open('/Volumes/projects/phy982/Group_JB_CI/fit/surf_spin/fort.201') as f:\n",
    "    surf_spin_raw  = parse_fort16(f)\n",
    "    surf_spin_data = pd.DataFrame(surf_spin_raw[1], columns=('xsec',), index=surf_spin_raw[0]).sort()"
   ]
  },
  {
   "cell_type": "code",
   "execution_count": null,
   "metadata": {
    "collapsed": false
   },
   "outputs": [],
   "source": [
    "plt.plot(surf_spin_data.index, surf_spin_data.xsec)\n",
    "plt.errorbar(data.index, data.xsec, fmt='.', yerr=data.error)\n",
    "#plt.plot(data.index, data.xsec, 'o')\n",
    "plt.semilogy()\n",
    "plt.xlabel('CM Angle [degrees]')\n",
    "plt.ylabel('Ratio to Rutherford')"
   ]
  },
  {
   "cell_type": "markdown",
   "metadata": {},
   "source": [
    "# Compare suraface w/ and w/o LS"
   ]
  },
  {
   "cell_type": "code",
   "execution_count": null,
   "metadata": {
    "collapsed": false
   },
   "outputs": [],
   "source": [
    "plt.plot(surf_data.index, surf_data.xsec, label='Surface w/o SO')\n",
    "plt.plot(surf_spin_data.index, surf_spin_data.xsec, label='Surface w/ SO')\n",
    "plt.errorbar(data.index, data.xsec, fmt='k.', yerr=data.error, label='Experiment')\n",
    "plt.grid()\n",
    "\n",
    "#plt.plot(data.index, data.xsec, 'o')\n",
    "plt.semilogy()\n",
    "plt.xlabel('CM Angle [degrees]')\n",
    "plt.ylabel('Ratio to Rutherford')\n",
    "plt.xlim(0, 60)\n",
    "plt.ylim(1e-2, 1e1)\n",
    "plt.legend(frameon=True)"
   ]
  },
  {
   "cell_type": "markdown",
   "metadata": {
    "collapsed": true
   },
   "source": [
    "# Everything!"
   ]
  },
  {
   "cell_type": "code",
   "execution_count": null,
   "metadata": {
    "collapsed": false
   },
   "outputs": [],
   "source": [
    "with open('/Volumes/projects/phy982/Group_JB_CI/fit/everything/fort.201') as f:\n",
    "    ev_raw  = parse_fort16(f)\n",
    "    ev_data = pd.DataFrame(ev_raw[1], columns=('xsec',), index=ev_raw[0]).sort()"
   ]
  },
  {
   "cell_type": "code",
   "execution_count": null,
   "metadata": {
    "collapsed": false
   },
   "outputs": [],
   "source": [
    "plt.plot(ev_data.index, ev_data.xsec)\n",
    "plt.errorbar(data.index, data.xsec, fmt='.', yerr=data.error)\n",
    "# plt.plot(data.index, data.xsec, '.')\n",
    "plt.semilogy()\n",
    "plt.xlabel('CM Angle [degrees]')\n",
    "plt.ylabel('Ratio to Rutherford')"
   ]
  },
  {
   "cell_type": "markdown",
   "metadata": {},
   "source": [
    "# Parameters from paper (with fit)"
   ]
  },
  {
   "cell_type": "code",
   "execution_count": null,
   "metadata": {
    "collapsed": true
   },
   "outputs": [],
   "source": []
  },
  {
   "cell_type": "code",
   "execution_count": null,
   "metadata": {
    "collapsed": false
   },
   "outputs": [],
   "source": [
    "with open('/Volumes/projects/phy982/Group_JB_CI/fit/check/fort.201') as f:\n",
    "    check_raw  = parse_fort16(f)\n",
    "    check_data = pd.DataFrame(check_raw[1], columns=('xsec',), index=check_raw[0]).sort()"
   ]
  },
  {
   "cell_type": "code",
   "execution_count": null,
   "metadata": {
    "collapsed": false
   },
   "outputs": [],
   "source": [
    "plt.plot(check_data.index, check_data.xsec)\n",
    "# plt.plot(fresco_data.index, fresco_data.xsec)\n",
    "# plt.plot(surf_spin_data.index, surf_spin_data.xsec)\n",
    "plt.errorbar(data.index, data.xsec, fmt='.', yerr=data.error)\n",
    "# plt.plot(data.index, data.xsec, '.')\n",
    "plt.semilogy()\n",
    "plt.xlim(0, 60)\n",
    "plt.ylim(1e-2, 1e1)\n",
    "plt.xlabel('CM Angle [degrees]')\n",
    "plt.ylabel('Ratio to Rutherford')"
   ]
  },
  {
   "cell_type": "code",
   "execution_count": null,
   "metadata": {
    "collapsed": true
   },
   "outputs": [],
   "source": []
  }
 ],
 "metadata": {
  "kernelspec": {
   "display_name": "Python 3",
   "language": "python",
   "name": "python3"
  },
  "language_info": {
   "codemirror_mode": {
    "name": "ipython",
    "version": 3
   },
   "file_extension": ".py",
   "mimetype": "text/x-python",
   "name": "python",
   "nbconvert_exporter": "python",
   "pygments_lexer": "ipython3",
   "version": "3.4.2"
  }
 },
 "nbformat": 4,
 "nbformat_minor": 0
}
