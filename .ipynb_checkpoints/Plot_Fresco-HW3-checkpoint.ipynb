{
 "cells": [
  {
   "cell_type": "code",
   "execution_count": null,
   "metadata": {
    "collapsed": true
   },
   "outputs": [],
   "source": [
    "%matplotlib inline"
   ]
  },
  {
   "cell_type": "code",
   "execution_count": null,
   "metadata": {
    "collapsed": true
   },
   "outputs": [],
   "source": [
    "import matplotlib.pyplot as plt\n",
    "import re\n",
    "import os\n",
    "import glob\n",
    "import pandas as pd\n",
    "import numpy as np\n",
    "import seaborn as sns\n",
    "from numpy import sin, pi"
   ]
  },
  {
   "cell_type": "code",
   "execution_count": null,
   "metadata": {
    "collapsed": true
   },
   "outputs": [],
   "source": [
    "from mpl_toolkits.axes_grid.anchored_artists import AnchoredText"
   ]
  },
  {
   "cell_type": "code",
   "execution_count": null,
   "metadata": {
    "collapsed": true
   },
   "outputs": [],
   "source": [
    "from scipy.interpolate import InterpolatedUnivariateSpline"
   ]
  },
  {
   "cell_type": "code",
   "execution_count": null,
   "metadata": {
    "collapsed": false
   },
   "outputs": [],
   "source": [
    "sns.set_style('ticks')\n",
    "sns.set_context('notebook', font_scale=1.2)"
   ]
  },
  {
   "cell_type": "code",
   "execution_count": null,
   "metadata": {
    "collapsed": true
   },
   "outputs": [],
   "source": [
    "def parse_fort16(f):\n",
    "    data = []\n",
    "    idx = []\n",
    "    for line in f:\n",
    "        line = line.strip()\n",
    "        if line[0] not in ('#', '@') and line != 'END':\n",
    "            parts = [float(x) for x in line.split()]\n",
    "            idx.append(parts[0])\n",
    "            data.append(parts[1])\n",
    "    return idx, data"
   ]
  },
  {
   "cell_type": "code",
   "execution_count": null,
   "metadata": {
    "collapsed": true
   },
   "outputs": [],
   "source": [
    "def rutherford(en, angle, Z1, Z2):\n",
    "    angle = angle * pi / 180.\n",
    "    return (Z1 * Z2 * 1.44 / (4 * en))**2 / sin(angle / 2)**4 * 10"
   ]
  },
  {
   "cell_type": "code",
   "execution_count": null,
   "metadata": {
    "collapsed": true
   },
   "outputs": [],
   "source": [
    "rootdir = os.path.abspath('/Volumes/projects/phy982/Group_JB_CI/HW3')\n",
    "# graphdir = os.path.abspath('/Users/josh/Documents/Code/reactions/hw2/images')"
   ]
  },
  {
   "cell_type": "code",
   "execution_count": null,
   "metadata": {
    "collapsed": false
   },
   "outputs": [],
   "source": [
    "f201files = []\n",
    "f202files = []\n",
    "for root, dirnames, filenames in os.walk(rootdir):\n",
    "    if 'fort.201' in filenames:\n",
    "        f201files.append(os.path.join(root, 'fort.201'))\n",
    "    if 'fort.202' in filenames:\n",
    "        f202files.append(os.path.join(root, 'fort.202'))"
   ]
  },
  {
   "cell_type": "code",
   "execution_count": null,
   "metadata": {
    "collapsed": false
   },
   "outputs": [],
   "source": [
    "f202files"
   ]
  },
  {
   "cell_type": "code",
   "execution_count": null,
   "metadata": {
    "collapsed": false
   },
   "outputs": [],
   "source": [
    "dfs = []\n",
    "for f in f202files:\n",
    "    name = '_'.join(re.match(rootdir + '/(.*)', os.path.dirname(f)).group(1).split('/'))\n",
    "    with open(f) as fp:\n",
    "        idx, data = parse_fort16(fp)\n",
    "    dfs.append(pd.DataFrame(data, columns=(name,), index=idx))\n",
    "        \n",
    "xsecs = pd.concat(dfs, axis=1)"
   ]
  },
  {
   "cell_type": "markdown",
   "metadata": {},
   "source": [
    "# Data"
   ]
  },
  {
   "cell_type": "code",
   "execution_count": null,
   "metadata": {
    "collapsed": false
   },
   "outputs": [],
   "source": [
    "expdata = pd.read_table(rootdir + '/data56.dat', delim_whitespace=True, index_col='angle')\n",
    "expdata['xsec']  *= 1e-3 #/ rutherford(56, expdata.index.values, 1, 20)\n",
    "expdata['error'] *= 1e-3 #/ rutherford(56, expdata.index.values, 1, 20)"
   ]
  },
  {
   "cell_type": "code",
   "execution_count": null,
   "metadata": {
    "collapsed": true
   },
   "outputs": [],
   "source": [
    "expdata11 = pd.read_table(rootdir + '/data11.dat', delim_whitespace=True, index_col='angle')"
   ]
  },
  {
   "cell_type": "code",
   "execution_count": null,
   "metadata": {
    "collapsed": true
   },
   "outputs": [],
   "source": [
    "She = 0.85\n",
    "xsecs['scaled'] = xsecs.finite_fullrem * She"
   ]
  },
  {
   "cell_type": "code",
   "execution_count": null,
   "metadata": {
    "collapsed": false
   },
   "outputs": [],
   "source": [
    "xsecs.zero_range.plot(label='Zero-Range', style='')\n",
    "xsecs.finite_norem.plot(label='Finite-Range (Post)')\n",
    "xsecs.finite_fullrem.plot(label='Finite-Range w/ Full Complex Remnant (Post)')\n",
    "xsecs.prior_fullrem.plot(label='Finite-Range w/ Full Complex Remnant (Prior)')\n",
    "plt.errorbar(expdata.index, expdata.xsec, fmt='k.', yerr=expdata.error, label='Uozumi et al. (1994)')\n",
    "# plt.semilogy()\n",
    "plt.grid(False)\n",
    "plt.legend(frameon=False)\n",
    "plt.xlabel('CM Angle [Degrees]')\n",
    "plt.ylabel(r'$d\\sigma/d\\Omega$ [mb/sr]')\n",
    "plt.xlim(0, 100)\n",
    "\n",
    "at = AnchoredText(r\"E = 56 MeV\",\n",
    "                  prop=dict(size=18), frameon=False,\n",
    "                  loc=3,\n",
    "                  )\n",
    "plt.gca().add_artist(at)\n",
    "\n",
    "plt.savefig('highen.pdf')"
   ]
  },
  {
   "cell_type": "code",
   "execution_count": null,
   "metadata": {
    "collapsed": false
   },
   "outputs": [],
   "source": [
    "xsecs.finite_fullrem.plot(label='Finite-Range w/ Full Complex Remnant (Post)')\n",
    "xsecs.scaled.plot(label='Scaled with spectroscopic factor')\n",
    "plt.errorbar(expdata.index, expdata.xsec, fmt='k.', yerr=expdata.error, label='Uozumi et al. (1994)')\n",
    "# plt.semilogy()\n",
    "plt.grid(False)\n",
    "plt.legend(frameon=False)\n",
    "plt.xlabel('CM Angle [Degrees]')\n",
    "plt.ylabel(r'$d\\sigma/d\\Omega$ [mb/sr]')\n",
    "plt.xlim(0, 100)\n",
    "\n",
    "at = AnchoredText(r\"E = 56 MeV\",\n",
    "                  prop=dict(size=18), frameon=False,\n",
    "                  loc=3,\n",
    "                  )\n",
    "\n",
    "at2 = AnchoredText(\"S = {}\".format(She),\n",
    "                  prop=dict(size=18), frameon=False,\n",
    "                  loc=5,\n",
    "                  )\n",
    "plt.gca().add_artist(at)\n",
    "plt.gca().add_artist(at2)\n",
    "\n",
    "plt.savefig('highen_sfactor.pdf')"
   ]
  },
  {
   "cell_type": "code",
   "execution_count": null,
   "metadata": {
    "collapsed": true
   },
   "outputs": [],
   "source": [
    "Sle = 0.70\n",
    "xsecs['lowen_scaled'] = Sle * xsecs.lowen_finite_fullrem"
   ]
  },
  {
   "cell_type": "code",
   "execution_count": null,
   "metadata": {
    "collapsed": false
   },
   "outputs": [],
   "source": [
    "xsecs.lowen_zero_range.plot(label='Zero-Range')\n",
    "xsecs.lowen_finite_norem.plot(label='Finite-Range (Post)')\n",
    "xsecs.lowen_finite_fullrem.plot(label='Finite-Range w/ Full Complex Remnant (Post)')\n",
    "xsecs.lowen_prior_fullrem.plot(label='Finite-Range w/ Full Complex Remnant (Prior)')\n",
    "plt.errorbar(expdata11.index, expdata11.xsec, fmt='k.', yerr=expdata11.error, label='Schmidt-Rohr et al. (1964)')\n",
    "# plt.semilogy()\n",
    "plt.grid(False)\n",
    "plt.legend(frameon=False, loc=1)\n",
    "plt.xlabel('CM Angle [Degrees]')\n",
    "plt.ylabel(r'$d\\sigma/d\\Omega$ [mb/sr]')\n",
    "\n",
    "at = AnchoredText(r\"E = 11.8 MeV\",\n",
    "                  prop=dict(size=18), frameon=False,\n",
    "                  loc=3,\n",
    "                  )\n",
    "plt.gca().add_artist(at)\n",
    "\n",
    "plt.savefig('lowen.pdf')"
   ]
  },
  {
   "cell_type": "code",
   "execution_count": null,
   "metadata": {
    "collapsed": false
   },
   "outputs": [],
   "source": [
    "xsecs.lowen_finite_fullrem.plot(label='Finite-Range w/ Full Complex Remnant (Post)')\n",
    "xsecs.lowen_scaled.plot(label='Scaled with spectroscopic factor')\n",
    "plt.errorbar(expdata11.index, expdata11.xsec, fmt='k.', yerr=expdata11.error, label='Schmidt-Rohr et al. (1964)')\n",
    "# plt.semilogy()\n",
    "plt.grid(False)\n",
    "plt.legend(frameon=False, loc=1)\n",
    "plt.xlabel('CM Angle [Degrees]')\n",
    "plt.ylabel(r'$d\\sigma/d\\Omega$ [mb/sr]')\n",
    "\n",
    "at = AnchoredText(r\"E = 11.8 MeV\",\n",
    "                  prop=dict(size=18), frameon=False,\n",
    "                  loc=3,\n",
    "                  )\n",
    "at2 = AnchoredText(\"S = {:.2f}\".format(Sle),\n",
    "                  prop=dict(size=18), frameon=False,\n",
    "                  loc=5,\n",
    "                  )\n",
    "plt.gca().add_artist(at)\n",
    "plt.gca().add_artist(at2)\n",
    "\n",
    "plt.savefig('lowen_sfactor.pdf')"
   ]
  },
  {
   "cell_type": "code",
   "execution_count": null,
   "metadata": {
    "collapsed": false
   },
   "outputs": [],
   "source": [
    "exp_spl = InterpolatedUnivariateSpline(expdata.index, expdata.xsec)"
   ]
  },
  {
   "cell_type": "code",
   "execution_count": null,
   "metadata": {
    "collapsed": true
   },
   "outputs": [],
   "source": [
    "xs = np.linspace(0, 50, 100)"
   ]
  },
  {
   "cell_type": "code",
   "execution_count": null,
   "metadata": {
    "collapsed": false
   },
   "outputs": [],
   "source": [
    "plt.plot(xs, exp_spl(xs))\n",
    "plt.errorbar(expdata.index, expdata.xsec, fmt='k.', yerr=expdata.error, label='Uozumi et al. (1994)')"
   ]
  },
  {
   "cell_type": "code",
   "execution_count": null,
   "metadata": {
    "collapsed": true
   },
   "outputs": [],
   "source": [
    "inrange = xsecs[0:50]"
   ]
  },
  {
   "cell_type": "code",
   "execution_count": null,
   "metadata": {
    "collapsed": false
   },
   "outputs": [],
   "source": [
    "plt.plot(exp_spl(inrange.index) / inrange.finite_fullrem)"
   ]
  },
  {
   "cell_type": "code",
   "execution_count": null,
   "metadata": {
    "collapsed": true
   },
   "outputs": [],
   "source": []
  }
 ],
 "metadata": {
  "kernelspec": {
   "display_name": "Python 3",
   "language": "python",
   "name": "python3"
  },
  "language_info": {
   "codemirror_mode": {
    "name": "ipython",
    "version": 3
   },
   "file_extension": ".py",
   "mimetype": "text/x-python",
   "name": "python",
   "nbconvert_exporter": "python",
   "pygments_lexer": "ipython3",
   "version": "3.4.2"
  }
 },
 "nbformat": 4,
 "nbformat_minor": 0
}
